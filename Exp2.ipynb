{
 "cells": [
  {
   "cell_type": "code",
   "execution_count": null,
   "metadata": {},
   "outputs": [],
   "source": [
    "import numpy as np\n",
    "import pandas as pd\n",
    "import matplotlib.pyplot as plt\n",
    "from mpl_toolkits import mplot3d\n",
    "from sklearn.model_selection import train_test_split\n",
    "from sklearn.metrics import accuracy_score\n"
   ]
  },
  {
   "cell_type": "code",
   "execution_count": null,
   "metadata": {},
   "outputs": [],
   "source": [
    "# Write a class for perceptron with fit and predict function with sigmoid activation function\n",
    "class Perceptron:\n",
    "      def __init__(self,learning_rate=0.1):\n",
    "    self.learning_rate = learning_rate\n",
    "    self._b = 0.0\n",
    "    self._w = None\n",
    "    self.misclassified_samples = []\n",
    "  def fit(self, x: np.array, y: np.array, n_iter=10):\n",
    "    self._b = 0.0\n",
    "    self._w = np.zeros(x.shape[1])\n",
    "    self.misclassified_samples = []\n",
    "    for _ in range(n_iter):\n",
    "      errors = 0\n",
    "      for xi, yi in zip(x, y):\n",
    "        update = self.learning_rate * (yi - self.predict(xi))\n",
    "        self._b += update\n",
    "        self._w += update * xi\n",
    "        errors += int(update != 0.0)\n",
    "      self.misclassified_samples.append(errors)\n",
    "  def f(self, x: np.array) -> float:\n",
    "      return np.dot(x, self._w) + self._b\n",
    "  def predict(self, x: np.array):\n",
    "      return np.where(self.f(x) >= 0, 1, -1)"
   ]
  },
  {
   "cell_type": "code",
   "execution_count": null,
   "metadata": {},
   "outputs": [],
   "source": [
    "# Start your main here ,read the iris data set\n",
    "url = 'https://archive.ics.uci.edu/ml/machine-learning-databases/iris/iris.data'\n",
    "df = pd.read_csv(url, header=None)\n",
    "print(df.head())\n",
    "y = df.iloc[:, 4].values\n",
    "x = df.iloc[:, 0:3].values\n",
    "fig = plt.figure()"
   ]
  },
  {
   "cell_type": "code",
   "execution_count": null,
   "metadata": {},
   "outputs": [],
   "source": [
    "# map the labels to a binary integer value\n",
    "y = np.where(y == 'Iris-setsa', 1, -1)\n",
    "x[:, 0] = (x[:, 0] - x[:, 0].mean()) / x[:, 0].std()\n",
    "x[:, 1] = (x[:, 1] - x[:, 1].mean()) / x[:, 1].std()"
   ]
  },
  {
   "cell_type": "code",
   "execution_count": null,
   "metadata": {},
   "outputs": [],
   "source": [
    "# standardization of the input features\n",
    "ax = plt.axes(projection='3d')\n",
    "ax.set_title('Iris data set')\n",
    "ax.set_xlabel(\"Sepal length in width (cm)\")\n",
    "ax.set_ylabel(\"Sepal width in width (cm)\")\n",
    "ax.set_zlabel(\"Petal length in width (cm)\")\n",
    "ax.scatter(x[:50, 0], x[:50, 1], x[:50, 2], color='red',\n",
    "         marker='o', s=4, edgecolor='red', label=\"Iris Setosa\")\n",
    "ax.scatter(x[50:100, 0], x[50:100, 1], x[50:100, 2], color='blue',\n",
    "         marker='^', s=4, edgecolor='blue', label=\"Iris Versicolour\")\n",
    "ax.scatter(x[100:150, 0], x[100:150, 1], x[100:150, 2], color='green',\n",
    "         marker='x', s=4, edgecolor='green', label=\"Iris Virginica\")\n",
    "plt.legend(loc='upper left')\n",
    "plt.show()"
   ]
  },
  {
   "cell_type": "code",
   "execution_count": null,
   "metadata": {},
   "outputs": [],
   "source": [
    "# split the data\n",
    "x_train, x_test, y_train, y_test = train_test_split(x, y, test_size=0.25,random_state=0)\n",
    "classifier = Perceptron(learning_rate=0.01)\n",
    "classifier.fit(x_train, y_train)"
   ]
  },
  {
   "cell_type": "code",
   "execution_count": null,
   "metadata": {},
   "outputs": [],
   "source": [
    "# train the model by setting the learning rate as 0.01\n",
    "classifier = Perceptron(learning_rate=0.01)\n",
    "classifier.fit(x_train, y_train)"
   ]
  },
  {
   "cell_type": "code",
   "execution_count": null,
   "metadata": {},
   "outputs": [],
   "source": [
    "# plot the number of errors during each iteration\n",
    "plt.plot(range(1, len(classifier.misclassified_samples) + 1),classifier.misclassified_samples, marker='o')\n",
    "plt.xlabel('Epoch')\n",
    "plt.ylabel('Errors')\n",
    "plt.show()"
   ]
  },
  {
   "cell_type": "code",
   "execution_count": null,
   "metadata": {},
   "outputs": [],
   "source": [
    "# print the accuracy\n",
    "print(\"Accuracy:\",accuracy_score(classifier.predict(x_test), y_test)*100)"
   ]
  }
 ],
 "metadata": {
  "kernelspec": {
   "display_name": "Python 3",
   "language": "python",
   "name": "python3"
  },
  "language_info": {
   "name": "python",
   "version": "3.10.6"
  }
 },
 "nbformat": 4,
 "nbformat_minor": 2
}
